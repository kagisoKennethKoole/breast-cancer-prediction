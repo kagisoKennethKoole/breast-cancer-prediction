{
 "cells": [
  {
   "cell_type": "code",
   "execution_count": 3,
   "id": "7a7377b0-9a1c-4c7b-a84c-21592526471c",
   "metadata": {},
   "outputs": [
    {
     "name": "stdout",
     "output_type": "stream",
     "text": [
      "Accuracy: 0.9736842105263158\n",
      "Confusion Matrix:\n",
      " [[41  2]\n",
      " [ 1 70]]\n",
      "Classification Report:\n",
      "               precision    recall  f1-score   support\n",
      "\n",
      "           0       0.98      0.95      0.96        43\n",
      "           1       0.97      0.99      0.98        71\n",
      "\n",
      "    accuracy                           0.97       114\n",
      "   macro avg       0.97      0.97      0.97       114\n",
      "weighted avg       0.97      0.97      0.97       114\n",
      "\n"
     ]
    }
   ],
   "source": [
    "#Import Libraries\n",
    "import numpy as np\n",
    "import pandas as pd\n",
    "import matplotlib.pyplot as plt\n",
    "from sklearn.datasets import load_breast_cancer\n",
    "from sklearn.model_selection import train_test_split\n",
    "from sklearn.preprocessing import StandardScaler\n",
    "from sklearn.linear_model import LogisticRegression\n",
    "from sklearn.metrics import accuracy_score, confusion_matrix, classification_report\n",
    "\n",
    "#Load Dataset\n",
    "data = load_breast_cancer()\n",
    "\n",
    "# Step 3: Explore Data\n",
    "df = pd.DataFrame(data.data, columns = data.feature_names)\n",
    "df['target'] = data.target\n",
    "\n",
    "#Preprocess Data\n",
    "breastCanserFeatures = df.drop('target', axis = 1)\n",
    "predictBreatCancer = df['target']\n",
    "\n",
    "scaler = StandardScaler()\n",
    "breastCanserFeatures_scaled = scaler.fit_transform(breastCanserFeatures)\n",
    "\n",
    "#Split Data\n",
    "breastCanserFeatures_train, breastCanserFeatures_test, predictBreatCancer_train, predictBreatCancer_test = train_test_split(breastCanserFeatures_scaled, predictBreatCancer, test_size=0.2, random_state=42)\n",
    "\n",
    "#Train Model\n",
    "model = LogisticRegression()\n",
    "model.fit(breastCanserFeatures_train, predictBreatCancer_train)\n",
    "\n",
    "#Evaluate Model\n",
    "predictions = model.predict(breastCanserFeatures_test)\n",
    "\n",
    "accuracy = accuracy_score(predictBreatCancer_test, predictions)\n",
    "conf_matrix = confusion_matrix(predictBreatCancer_test, predictions)\n",
    "class_report = classification_report(predictBreatCancer_test, predictions)\n",
    "\n",
    "print(\"Accuracy:\", accuracy)\n",
    "print(\"Confusion Matrix:\\n\", conf_matrix)\n",
    "print(\"Classification Report:\\n\", class_report)\n"
   ]
  },
  {
   "cell_type": "code",
   "execution_count": null,
   "id": "0a22a781-ff83-41d5-8503-1e82a716cb39",
   "metadata": {},
   "outputs": [],
   "source": []
  }
 ],
 "metadata": {
  "kernelspec": {
   "display_name": "Python 3 (ipykernel)",
   "language": "python",
   "name": "python3"
  },
  "language_info": {
   "codemirror_mode": {
    "name": "ipython",
    "version": 3
   },
   "file_extension": ".py",
   "mimetype": "text/x-python",
   "name": "python",
   "nbconvert_exporter": "python",
   "pygments_lexer": "ipython3",
   "version": "3.12.1"
  }
 },
 "nbformat": 4,
 "nbformat_minor": 5
}
